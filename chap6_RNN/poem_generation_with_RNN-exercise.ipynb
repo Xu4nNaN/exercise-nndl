{
 "cells": [
  {
   "cell_type": "markdown",
   "metadata": {},
   "source": [
    "# 诗歌生成"
   ]
  },
  {
   "cell_type": "markdown",
   "metadata": {},
   "source": [
    "# 数据处理"
   ]
  },
  {
   "cell_type": "code",
   "execution_count": 1,
   "metadata": {},
   "outputs": [],
   "source": [
    "import numpy as np\n",
    "import tensorflow as tf\n",
    "import collections\n",
    "from tensorflow import keras\n",
    "from tensorflow.keras import layers\n",
    "from tensorflow.keras import layers, optimizers, datasets\n",
    "\n",
    "start_token = 'bos'\n",
    "end_token = 'eos'\n",
    "\n",
    "def process_dataset(fileName):\n",
    "    examples = []\n",
    "    with open(fileName, 'r', encoding='utf-8') as fd:\n",
    "        for line in fd:\n",
    "            outs = line.strip().split(':')\n",
    "            content = ''.join(outs[1:])\n",
    "            ins = [start_token] + list(content) + [end_token] \n",
    "            if len(ins) > 200:\n",
    "                continue\n",
    "            examples.append(ins)\n",
    "            \n",
    "    counter = collections.Counter()\n",
    "    for e in examples:\n",
    "        for w in e:\n",
    "            counter[w]+=1\n",
    "    \n",
    "    sorted_counter = sorted(counter.items(), key=lambda x: -x[1])  # 排序\n",
    "    words, _ = zip(*sorted_counter)\n",
    "    words = ('PAD', 'UNK') + words[:len(words)]\n",
    "    word2id = dict(zip(words, range(len(words))))\n",
    "    id2word = {word2id[k]:k for k in word2id}\n",
    "    \n",
    "    indexed_examples = [[word2id[w] for w in poem]\n",
    "                        for poem in examples]\n",
    "    seqlen = [len(e) for e in indexed_examples]\n",
    "    \n",
    "    instances = list(zip(indexed_examples, seqlen))\n",
    "    \n",
    "    return instances, word2id, id2word\n",
    "\n",
    "def poem_dataset():\n",
    "    instances, word2id, id2word = process_dataset('./poems.txt')\n",
    "    ds = tf.data.Dataset.from_generator(lambda: [ins for ins in instances], \n",
    "                                            (tf.int64, tf.int64), \n",
    "                                            (tf.TensorShape([None]),tf.TensorShape([])))\n",
    "    ds = ds.shuffle(buffer_size=10240)\n",
    "    ds = ds.padded_batch(100, padded_shapes=(tf.TensorShape([None]),tf.TensorShape([])))\n",
    "    ds = ds.map(lambda x, seqlen: (x[:, :-1], x[:, 1:], seqlen-1))\n",
    "    return ds, word2id, id2word"
   ]
  },
  {
   "cell_type": "markdown",
   "metadata": {},
   "source": [
    "# 模型代码， 完成建模代码"
   ]
  },
  {
   "cell_type": "code",
   "execution_count": 2,
   "metadata": {},
   "outputs": [],
   "source": [
    "class myRNNModel(keras.Model):\n",
    "    def __init__(self, w2id):\n",
    "        super(myRNNModel, self).__init__()\n",
    "        self.v_sz = len(w2id)\n",
    "        self.embed_layer = tf.keras.layers.Embedding(self.v_sz, 64, \n",
    "                                                    mask_zero=True)\n",
    "        \n",
    "        self.rnncell = tf.keras.layers.SimpleRNNCell(128)\n",
    "        self.rnn_layer = tf.keras.layers.RNN(self.rnncell, return_sequences=True, return_state=True)\n",
    "        self.dense = tf.keras.layers.Dense(self.v_sz)\n",
    "        \n",
    "    @tf.function\n",
    "    def call(self, inp_ids):\n",
    "        '''\n",
    "        此处完成建模过程，可以参考Learn2Carry\n",
    "        '''\n",
    "        x = self.embed_layer(inp_ids)\n",
    "        x = self.rnn_layer(x)\n",
    "        if isinstance(x, tuple):\n",
    "            x = x[0]\n",
    "        logits = self.dense(x)\n",
    "        return logits\n",
    "    \n",
    "    @tf.function\n",
    "    def get_next_token(self, x, state):\n",
    "        '''\n",
    "        shape(x) = [b_sz,] \n",
    "        '''\n",
    "    \n",
    "        inp_emb = self.embed_layer(x) #shape(b_sz, emb_sz)\n",
    "        h, state = self.rnncell.call(inp_emb, state) # shape(b_sz, h_sz)\n",
    "        logits = self.dense(h) # shape(b_sz, v_sz)\n",
    "        out = tf.argmax(logits, axis=-1)\n",
    "        return out, state"
   ]
  },
  {
   "cell_type": "markdown",
   "metadata": {},
   "source": [
    "## 一个计算sequence loss的辅助函数，只需了解用途。"
   ]
  },
  {
   "cell_type": "code",
   "execution_count": 3,
   "metadata": {},
   "outputs": [],
   "source": [
    "def mkMask(input_tensor, maxLen):\n",
    "    shape_of_input = tf.shape(input_tensor)\n",
    "    shape_of_output = tf.concat(axis=0, values=[shape_of_input, [maxLen]])\n",
    "\n",
    "    oneDtensor = tf.reshape(input_tensor, shape=(-1,))\n",
    "    flat_mask = tf.sequence_mask(oneDtensor, maxlen=maxLen)\n",
    "    return tf.reshape(flat_mask, shape_of_output)\n",
    "\n",
    "\n",
    "def reduce_avg(reduce_target, lengths, dim):\n",
    "    \"\"\"\n",
    "    Args:\n",
    "        reduce_target : shape(d_0, d_1,..,d_dim, .., d_k)\n",
    "        lengths : shape(d0, .., d_(dim-1))\n",
    "        dim : which dimension to average, should be a python number\n",
    "    \"\"\"\n",
    "    shape_of_lengths = lengths.get_shape()\n",
    "    shape_of_target = reduce_target.get_shape()\n",
    "    if len(shape_of_lengths) != dim:\n",
    "        raise ValueError(('Second input tensor should be rank %d, ' +\n",
    "                         'while it got rank %d') % (dim, len(shape_of_lengths)))\n",
    "    if len(shape_of_target) < dim+1 :\n",
    "        raise ValueError(('First input tensor should be at least rank %d, ' +\n",
    "                         'while it got rank %d') % (dim+1, len(shape_of_target)))\n",
    "\n",
    "    rank_diff = len(shape_of_target) - len(shape_of_lengths) - 1\n",
    "    mxlen = tf.shape(reduce_target)[dim]\n",
    "    mask = mkMask(lengths, mxlen)\n",
    "    if rank_diff!=0:\n",
    "        len_shape = tf.concat(axis=0, values=[tf.shape(lengths), [1]*rank_diff])\n",
    "        mask_shape = tf.concat(axis=0, values=[tf.shape(mask), [1]*rank_diff])\n",
    "    else:\n",
    "        len_shape = tf.shape(lengths)\n",
    "        mask_shape = tf.shape(mask)\n",
    "    lengths_reshape = tf.reshape(lengths, shape=len_shape)\n",
    "    mask = tf.reshape(mask, shape=mask_shape)\n",
    "\n",
    "    mask_target = reduce_target * tf.cast(mask, dtype=reduce_target.dtype)\n",
    "\n",
    "    red_sum = tf.reduce_sum(mask_target, axis=[dim], keepdims=False)\n",
    "    red_avg = red_sum / (tf.cast(lengths_reshape, dtype=tf.float32) + 1e-30)\n",
    "    return red_avg"
   ]
  },
  {
   "cell_type": "markdown",
   "metadata": {},
   "source": [
    "# 定义loss函数，定义训练函数"
   ]
  },
  {
   "cell_type": "code",
   "execution_count": null,
   "metadata": {},
   "outputs": [],
   "source": [
    "@tf.function\n",
    "def compute_loss(logits, labels, seqlen):\n",
    "    losses = tf.nn.sparse_softmax_cross_entropy_with_logits(\n",
    "            logits=logits, labels=labels)\n",
    "    losses = reduce_avg(losses, seqlen, dim=1)\n",
    "    return tf.reduce_mean(losses)\n",
    "\n",
    "@tf.function\n",
    "def train_one_step(model, optimizer, x, y, seqlen):\n",
    "    '''\n",
    "    完成一步优化过程，可以参考之前做过的模型\n",
    "    '''\n",
    "    with tf.GradientTape() as tape:\n",
    "        logits = model.call(x)\n",
    "        loss = compute_loss(logits, y, seqlen)\n",
    "    gradients = tape.gradient(loss, model.trainable_variables)\n",
    "    optimizer.apply_gradients(zip(gradients, model.trainable_variables))\n",
    "    return loss\n",
    "\n",
    "def train(epoch, model, optimizer, ds):\n",
    "    loss = 0.0\n",
    "    accuracy = 0.0\n",
    "    for step, (x, y, seqlen) in enumerate(ds):\n",
    "        loss = train_one_step(model, optimizer, x, y, seqlen)\n",
    "\n",
    "        if step % 500 == 0:\n",
    "            print('epoch', epoch, ': loss', loss.numpy())\n",
    "\n",
    "    return loss"
   ]
  },
  {
   "cell_type": "markdown",
   "metadata": {},
   "source": [
    "# 训练优化过程"
   ]
  },
  {
   "cell_type": "code",
   "execution_count": 5,
   "metadata": {},
   "outputs": [
    {
     "name": "stdout",
     "output_type": "stream",
     "text": [
      "epoch 0 : loss 8.821366\n",
      "WARNING:tensorflow:5 out of the last 5 calls to <function train_one_step at 0x0000014AA441CD60> triggered tf.function retracing. Tracing is expensive and the excessive number of tracings could be due to (1) creating @tf.function repeatedly in a loop, (2) passing tensors with different shapes, (3) passing Python objects instead of tensors. For (1), please define your @tf.function outside of the loop. For (2), @tf.function has reduce_retracing=True option that can avoid unnecessary retracing. For (3), please refer to https://www.tensorflow.org/guide/function#controlling_retracing and https://www.tensorflow.org/api_docs/python/tf/function for  more details.\n",
      "WARNING:tensorflow:5 out of the last 15 calls to <function train_one_step at 0x0000014AA441CD60> triggered tf.function retracing. Tracing is expensive and the excessive number of tracings could be due to (1) creating @tf.function repeatedly in a loop, (2) passing tensors with different shapes, (3) passing Python objects instead of tensors. For (1), please define your @tf.function outside of the loop. For (2), @tf.function has reduce_retracing=True option that can avoid unnecessary retracing. For (3), please refer to https://www.tensorflow.org/guide/function#controlling_retracing and https://www.tensorflow.org/api_docs/python/tf/function for  more details.\n",
      "epoch 1 : loss 6.6369386\n",
      "epoch 2 : loss 6.0856543\n",
      "epoch 3 : loss 5.8118787\n",
      "epoch 4 : loss 5.619367\n",
      "epoch 5 : loss 5.5959487\n",
      "epoch 6 : loss 5.4694753\n",
      "epoch 7 : loss 5.3246717\n",
      "epoch 8 : loss 5.2207975\n",
      "epoch 9 : loss 5.1960692\n"
     ]
    }
   ],
   "source": [
    "optimizer = optimizers.Adam(0.0005)\n",
    "train_ds, word2id, id2word = poem_dataset()\n",
    "model = myRNNModel(word2id)\n",
    "\n",
    "for epoch in range(10):\n",
    "    loss = train(epoch, model, optimizer, train_ds)"
   ]
  },
  {
   "cell_type": "markdown",
   "metadata": {},
   "source": [
    "# 生成过程"
   ]
  },
  {
   "cell_type": "code",
   "execution_count": 60,
   "metadata": {},
   "outputs": [
    {
     "name": "stdout",
     "output_type": "stream",
     "text": [
      "月。然不可怜，不得无人间。有不可见，不知何处归。然不可见，不得一年年。有无人事，何人不可怜。\n"
     ]
    }
   ],
   "source": [
    "def gen_sentence(start_words=\"一\"):\n",
    "    state = [tf.random.normal(shape=(1, 128), stddev=0.5), tf.random.normal(shape=(1, 128), stddev=0.5)]\n",
    "\n",
    "    start_tokens = [word2id['bos']]\n",
    "    for char in start_words:\n",
    "        if char in word2id:\n",
    "            start_tokens.append(word2id[char])\n",
    "        else:\n",
    "            start_tokens.append(word2id['UNK'])\n",
    "    \n",
    "    for token in start_tokens[1:]:\n",
    "        cur_token = tf.constant([token], dtype=tf.int32)\n",
    "        _, state = model.get_next_token(cur_token, state)\n",
    "    \n",
    "    collect = start_tokens.copy()\n",
    "    for _ in range(50 - len(start_words)):\n",
    "        cur_token = tf.constant([collect[-1]], dtype=tf.int32)\n",
    "        next_token, state = model.get_next_token(cur_token, state)\n",
    "        collect.append(next_token.numpy()[0])\n",
    "    \n",
    "    poem = [id2word[t] for t in collect if id2word[t] not in ['bos', 'eos']]\n",
    "    return ''.join(poem)\n",
    "print(gen_sentence(start_words=\"月\"))"
   ]
  },
  {
   "cell_type": "markdown",
   "metadata": {},
   "source": [
    "# 报告\n",
    "\n",
    "[PDF](./RNN.pdf)\n",
    "\n",
    "## 循环神经网络(RNN)\n",
    "\n",
    "### RNN、LSTM、GRU 模型解释\n",
    "\n",
    "1. **RNN（循环神经网络）**\n",
    "   - **原理**：通过隐藏状态传递序列信息，每个时间步接收当前输入和前一隐藏状态，输出当前隐藏状态。\n",
    "   - **缺点**：梯度消失/爆炸问题严重，难以捕捉长期依赖。\n",
    "2. **LSTM（长短期记忆网络）**\n",
    "   - **改进**：引入输入门、遗忘门、输出门，控制信息流动。\n",
    "   - **优点**：通过门控机制缓解梯度消失，能有效学习长期依赖。\n",
    "3. **GRU（门控循环单元）**\n",
    "   - **改进**：合并 LSTM 的输入门和遗忘门为“更新门”，简化结构。\n",
    "   - **优点**：参数更少，训练更快，性能接近 LSTM。\n",
    "\n",
    "------\n",
    "\n",
    "### 诗歌生成过程\n",
    "\n",
    "1. **数据处理**\n",
    "   - 从文本文件加载诗歌，添加 `bos`（开始）和 `eos`（结束）标记。\n",
    "   - 构建词汇表，将字符映射为索引（ID）。\n",
    "   - 将诗歌转换为索引序列，并进行填充（Padding）和分批（Batching）。\n",
    "2. **模型构建**\n",
    "   - **嵌入层**：将字符索引转换为稠密向量。\n",
    "   - **RNN层**（如 `SimpleRNN/LSTM/GRU` ）：处理序列数据，捕捉上下文信息。\n",
    "   - **全连接层**：输出每个时间步的字符概率分布。\n",
    "3. **训练**\n",
    "   - 使用交叉熵损失函数，通过反向传播优化模型参数。\n",
    "   - 每个批次输入为 `x[:, :-1]`，标签为 `x[:, 1:]`，实现自回归训练。\n",
    "4. **生成**\n",
    "   - 从起始词（如“日”）开始，逐步预测下一个字符。\n",
    "   - 使用贪心搜索（取概率最高的字符）或采样策略生成文本，直到遇到 `eos` 或达到最大长度。\n",
    "\n",
    "------\n",
    "\n",
    "### 生成诗歌截图\n",
    "\n",
    "- **一**：![一](./img/一.png)\n",
    "- **日**：![日](./img/日.png)\n",
    "- **山**：![山](./img/山.png)\n",
    "- **红**：![红](./img/红.png)\n",
    "- **夜**：![夜](./img/夜.png)\n",
    "- **湖**：![湖](./img/湖.png)\n",
    "- **海**：![海](./img/海.png)\n",
    "- **月**：![月](./img/月.png)\n",
    "\n",
    "------\n",
    "\n",
    "### 实验总结\n",
    "\n",
    "1. **训练效果**\n",
    "   - 损失从初始值 8.821 下降至 5.196，模型逐渐收敛。\n",
    "   - 生成诗歌的连贯性随训练轮次增加而提升。\n",
    "2. **问题分析**\n",
    "   - 简单 RNN 存在梯度消失，生成诗歌较短且重复。\n",
    "   - 可替换为 LSTM 或 GRU 以提升长文本生成能力。\n",
    "3. **改进方向**\n",
    "   - 使用更大的数据集和更深层的网络。\n",
    "   - 引入注意力机制或预训练模型。\n",
    "4. **结论**\n",
    "   RNN 在诗歌生成任务中能学习基本模式，但更复杂的模型（如 `LSTM` ）和策略（如 `Beam Search` ）可显著提升生成质量。"
   ]
  }
 ],
 "metadata": {
  "anaconda-cloud": {},
  "kernelspec": {
   "display_name": "Python 3",
   "language": "python",
   "name": "python3"
  },
  "language_info": {
   "codemirror_mode": {
    "name": "ipython",
    "version": 3
   },
   "file_extension": ".py",
   "mimetype": "text/x-python",
   "name": "python",
   "nbconvert_exporter": "python",
   "pygments_lexer": "ipython3",
   "version": "3.12.2"
  }
 },
 "nbformat": 4,
 "nbformat_minor": 1
}
