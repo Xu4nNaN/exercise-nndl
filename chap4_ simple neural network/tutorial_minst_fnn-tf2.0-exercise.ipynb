{
 "cells": [
  {
   "cell_type": "markdown",
   "metadata": {},
   "source": [
    "## 准备数据"
   ]
  },
  {
   "cell_type": "code",
   "execution_count": 12,
   "metadata": {},
   "outputs": [],
   "source": [
    "import os\n",
    "import numpy as np\n",
    "import tensorflow as tf\n",
    "from tensorflow import keras\n",
    "from tensorflow.keras import layers, optimizers, datasets\n",
    "\n",
    "os.environ['TF_CPP_MIN_LOG_LEVEL'] = '2'  # or any {'0', '1', '2'}\n",
    "\n",
    "def mnist_dataset():\n",
    "    (x, y), (x_test, y_test) = datasets.mnist.load_data()\n",
    "    #normalize\n",
    "    x = x/255.0\n",
    "    x_test = x_test/255.0\n",
    "    \n",
    "    return (x, y), (x_test, y_test)"
   ]
  },
  {
   "cell_type": "code",
   "execution_count": 13,
   "metadata": {},
   "outputs": [
    {
     "name": "stdout",
     "output_type": "stream",
     "text": [
      "[(1, 'a'), (2, 'b'), (3, 'c'), (4, 'd')]\n"
     ]
    }
   ],
   "source": [
    "print(list(zip([1, 2, 3, 4], ['a', 'b', 'c', 'd'])))"
   ]
  },
  {
   "cell_type": "markdown",
   "metadata": {},
   "source": [
    "## 建立模型"
   ]
  },
  {
   "cell_type": "code",
   "execution_count": 14,
   "metadata": {},
   "outputs": [],
   "source": [
    "class myModel:\n",
    "    def __init__(self):\n",
    "        ####################\n",
    "        '''声明模型对应的参数'''\n",
    "        ####################\n",
    "        self.W1 = tf.Variable(tf.random.normal([784, 256], stddev=0.1))\n",
    "        self.b1 = tf.Variable(tf.zeros([256]))\n",
    "        self.W2 = tf.Variable(tf.random.normal([256, 10], stddev=0.1))\n",
    "        self.b2 = tf.Variable(tf.zeros([10]))\n",
    "\n",
    "    def __call__(self, x):\n",
    "        ####################\n",
    "        '''实现模型函数体，返回未归一化的logits'''\n",
    "        ####################\n",
    "        x = tf.reshape(x, [-1, 784])\n",
    "        h1 = tf.nn.relu(tf.matmul(x, self.W1) + self.b1)\n",
    "        logits = tf.matmul(h1, self.W2) + self.b2\n",
    "        return logits\n",
    "        \n",
    "model = myModel()\n",
    "\n",
    "optimizer = optimizers.Adam()"
   ]
  },
  {
   "cell_type": "markdown",
   "metadata": {},
   "source": [
    "## 计算 loss"
   ]
  },
  {
   "cell_type": "code",
   "execution_count": 15,
   "metadata": {},
   "outputs": [],
   "source": [
    "@tf.function\n",
    "def compute_loss(logits, labels):\n",
    "    return tf.reduce_mean(\n",
    "        tf.nn.sparse_softmax_cross_entropy_with_logits(\n",
    "            logits=logits, labels=labels))\n",
    "\n",
    "@tf.function\n",
    "def compute_accuracy(logits, labels):\n",
    "    predictions = tf.argmax(logits, axis=1)\n",
    "    return tf.reduce_mean(tf.cast(tf.equal(predictions, labels), tf.float32))\n",
    "\n",
    "@tf.function\n",
    "def train_one_step(model, optimizer, x, y):\n",
    "    with tf.GradientTape() as tape:\n",
    "        logits = model(x)\n",
    "        loss = compute_loss(logits, y)\n",
    "\n",
    "    # compute gradient\n",
    "    trainable_vars = [model.W1, model.W2, model.b1, model.b2]\n",
    "    grads = tape.gradient(loss, trainable_vars)\n",
    "    for g, v in zip(grads, trainable_vars):\n",
    "        v.assign_sub(0.01*g)\n",
    "\n",
    "    accuracy = compute_accuracy(logits, y)\n",
    "\n",
    "    # loss and accuracy is scalar tensor\n",
    "    return loss, accuracy\n",
    "\n",
    "@tf.function\n",
    "def test(model, x, y):\n",
    "    logits = model(x)\n",
    "    loss = compute_loss(logits, y)\n",
    "    accuracy = compute_accuracy(logits, y)\n",
    "    return loss, accuracy"
   ]
  },
  {
   "cell_type": "markdown",
   "metadata": {},
   "source": [
    "## 实际训练"
   ]
  },
  {
   "cell_type": "code",
   "execution_count": 16,
   "metadata": {},
   "outputs": [
    {
     "name": "stdout",
     "output_type": "stream",
     "text": [
      "epoch 0 : loss 2.9686787 ; accuracy 0.13141666\n",
      "epoch 1 : loss 2.8371105 ; accuracy 0.13651666\n",
      "epoch 2 : loss 2.7359526 ; accuracy 0.14081667\n",
      "epoch 3 : loss 2.655664 ; accuracy 0.1464\n",
      "epoch 4 : loss 2.5902052 ; accuracy 0.15163334\n",
      "epoch 5 : loss 2.535541 ; accuracy 0.1568\n",
      "epoch 6 : loss 2.4888902 ; accuracy 0.16328333\n",
      "epoch 7 : loss 2.4482822 ; accuracy 0.1694\n",
      "epoch 8 : loss 2.4123077 ; accuracy 0.1765\n",
      "epoch 9 : loss 2.3799403 ; accuracy 0.18436667\n",
      "epoch 10 : loss 2.350429 ; accuracy 0.19286667\n",
      "epoch 11 : loss 2.323206 ; accuracy 0.20011666\n",
      "epoch 12 : loss 2.297841 ; accuracy 0.20845\n",
      "epoch 13 : loss 2.2740085 ; accuracy 0.21715\n",
      "epoch 14 : loss 2.2514567 ; accuracy 0.22701667\n",
      "epoch 15 : loss 2.2299855 ; accuracy 0.2355\n",
      "epoch 16 : loss 2.2094364 ; accuracy 0.24365\n",
      "epoch 17 : loss 2.1896844 ; accuracy 0.25181666\n",
      "epoch 18 : loss 2.1706264 ; accuracy 0.26015\n",
      "epoch 19 : loss 2.1521795 ; accuracy 0.26911667\n",
      "epoch 20 : loss 2.1342754 ; accuracy 0.27835\n",
      "epoch 21 : loss 2.1168563 ; accuracy 0.28675\n",
      "epoch 22 : loss 2.0998743 ; accuracy 0.29498333\n",
      "epoch 23 : loss 2.0832891 ; accuracy 0.30361667\n",
      "epoch 24 : loss 2.0670667 ; accuracy 0.3126\n",
      "epoch 25 : loss 2.0511773 ; accuracy 0.32035\n",
      "epoch 26 : loss 2.0355966 ; accuracy 0.32903334\n",
      "epoch 27 : loss 2.0203018 ; accuracy 0.33735\n",
      "epoch 28 : loss 2.0052745 ; accuracy 0.34505\n",
      "epoch 29 : loss 1.9904974 ; accuracy 0.3533\n",
      "epoch 30 : loss 1.9759593 ; accuracy 0.36098334\n",
      "epoch 31 : loss 1.9616463 ; accuracy 0.36883333\n",
      "epoch 32 : loss 1.947548 ; accuracy 0.37598333\n",
      "epoch 33 : loss 1.9336541 ; accuracy 0.38335\n",
      "epoch 34 : loss 1.9199573 ; accuracy 0.39125\n",
      "epoch 35 : loss 1.9064503 ; accuracy 0.39868334\n",
      "epoch 36 : loss 1.8931262 ; accuracy 0.40581667\n",
      "epoch 37 : loss 1.8799802 ; accuracy 0.41281667\n",
      "epoch 38 : loss 1.8670071 ; accuracy 0.4196\n",
      "epoch 39 : loss 1.8542025 ; accuracy 0.42596668\n",
      "epoch 40 : loss 1.8415614 ; accuracy 0.43233332\n",
      "epoch 41 : loss 1.8290795 ; accuracy 0.43868333\n",
      "epoch 42 : loss 1.8167529 ; accuracy 0.44538334\n",
      "epoch 43 : loss 1.8045791 ; accuracy 0.45195\n",
      "epoch 44 : loss 1.7925557 ; accuracy 0.45796666\n",
      "epoch 45 : loss 1.7806785 ; accuracy 0.46356666\n",
      "epoch 46 : loss 1.768945 ; accuracy 0.46958333\n",
      "epoch 47 : loss 1.7573528 ; accuracy 0.47516668\n",
      "epoch 48 : loss 1.7459012 ; accuracy 0.48091668\n",
      "epoch 49 : loss 1.7345879 ; accuracy 0.48723334\n",
      "test loss 1.7336309 ; accuracy 0.4881\n"
     ]
    }
   ],
   "source": [
    "train_data, test_data = mnist_dataset()\n",
    "for epoch in range(50):\n",
    "    loss, accuracy = train_one_step(model, optimizer, \n",
    "                                    tf.constant(train_data[0], dtype=tf.float32), \n",
    "                                    tf.constant(train_data[1], dtype=tf.int64))\n",
    "    print('epoch', epoch, ': loss', loss.numpy(), '; accuracy', accuracy.numpy())\n",
    "loss, accuracy = test(model, \n",
    "                      tf.constant(test_data[0], dtype=tf.float32), \n",
    "                      tf.constant(test_data[1], dtype=tf.int64))\n",
    "\n",
    "print('test loss', loss.numpy(), '; accuracy', accuracy.numpy())"
   ]
  }
 ],
 "metadata": {
  "kernelspec": {
   "display_name": "Python 3",
   "language": "python",
   "name": "python3"
  },
  "language_info": {
   "codemirror_mode": {
    "name": "ipython",
    "version": 3
   },
   "file_extension": ".py",
   "mimetype": "text/x-python",
   "name": "python",
   "nbconvert_exporter": "python",
   "pygments_lexer": "ipython3",
   "version": "3.9.13"
  }
 },
 "nbformat": 4,
 "nbformat_minor": 2
}
