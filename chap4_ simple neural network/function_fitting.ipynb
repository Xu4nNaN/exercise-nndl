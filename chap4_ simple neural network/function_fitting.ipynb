{
 "cells": [
  {
   "cell_type": "markdown",
   "metadata": {},
   "source": [
    "# 函数拟合\n",
    "\n",
    "## 问题描述：\n",
    "\n",
    "​\t理论和实验证明，一个两层的ReLU网络可以模拟任何函数。请自行定义一个函数, 并使用基于ReLU的神经网络来拟合此函数。"
   ]
  },
  {
   "cell_type": "markdown",
   "metadata": {},
   "source": [
    "## 代码"
   ]
  },
  {
   "cell_type": "code",
   "execution_count": null,
   "metadata": {
    "vscode": {
     "languageId": "plaintext"
    }
   },
   "outputs": [],
   "source": []
  },
  {
   "cell_type": "markdown",
   "metadata": {},
   "source": [
    "## 报告\n",
    "\n",
    "[Report](./function_fitting.pdf)"
   ]
  }
 ],
 "metadata": {
  "language_info": {
   "name": "python"
  }
 },
 "nbformat": 4,
 "nbformat_minor": 2
}
